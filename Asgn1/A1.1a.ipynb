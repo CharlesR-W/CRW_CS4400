{
 "cells": [
  {
   "cell_type": "code",
   "execution_count": 37,
   "id": "92e42bee-8301-4473-8e56-15bc7fb55d62",
   "metadata": {},
   "outputs": [],
   "source": [
    "import torch\n",
    "from torch import nn\n",
    "from torchvision import datasets\n",
    "from torch.utils.data import DataLoader\n",
    "from torchvision.transforms import ToTensor\n",
    "import numpy as np\n",
    "import matplotlib.pyplot as plt"
   ]
  },
  {
   "cell_type": "code",
   "execution_count": 38,
   "id": "b74058ed-954a-499e-bd0a-55cfcea52308",
   "metadata": {},
   "outputs": [],
   "source": [
    "# load in data from mnist\n",
    "train_data = datasets.MNIST(\n",
    "    root=\"data\",\n",
    "    train=True,\n",
    "    download=True,\n",
    "    transform=ToTensor()\n",
    ")\n",
    "test_data = datasets.MNIST(\n",
    "    root=\"data\",\n",
    "    train=True,\n",
    "    download=True,\n",
    "    transform=ToTensor()\n",
    ")"
   ]
  },
  {
   "cell_type": "code",
   "execution_count": 39,
   "id": "78f603c9-ae4b-45ab-80f6-9649152245a5",
   "metadata": {},
   "outputs": [
    {
     "name": "stdout",
     "output_type": "stream",
     "text": [
      "X shape [NCHW]: torch.Size([1024, 1, 28, 28])\n",
      "y shape: torch.Size([1024])\n"
     ]
    }
   ],
   "source": [
    "#create the dataloaders: \n",
    "batch_size = 1024\n",
    "\n",
    "train_dataloader = DataLoader(train_data, batch_size=batch_size)\n",
    "test_dataloader = DataLoader(test_data, batch_size=batch_size)\n",
    "\n",
    "for X,y in train_dataloader:\n",
    "    print(f\"X shape [NCHW]: {X.shape}\")\n",
    "    print(f\"y shape: {y.shape}\")\n",
    "    break"
   ]
  },
  {
   "cell_type": "code",
   "execution_count": 45,
   "id": "32ffc71a-b93d-4f53-aadb-a1aa006aa038",
   "metadata": {},
   "outputs": [
    {
     "name": "stdout",
     "output_type": "stream",
     "text": [
      "Using device cuda\n"
     ]
    }
   ],
   "source": [
    "#define the device and the model\n",
    "device = \"cuda\" if torch.cuda.is_available() else \"cpu\"\n",
    "print(f\"Using device {device}\")\n",
    "\n",
    "model = nn.Sequential(\n",
    "    nn.Conv2d(1,8,5),\n",
    "    nn.ReLU(),\n",
    "    nn.MaxPool2d(2,2),\n",
    "    nn.Conv2d(8,16,5),\n",
    "    nn.ReLU(),\n",
    "    nn.MaxPool2d(2,2),\n",
    "    nn.Flatten(),\n",
    "    nn.Linear(256,128),\n",
    "    nn.ReLU(),\n",
    "    nn.Linear(128,32),\n",
    "    nn.ReLU(),\n",
    "    nn.Linear(32,10)\n",
    ")"
   ]
  },
  {
   "cell_type": "code",
   "execution_count": 46,
   "id": "ab99fd9e-49e9-43f0-9ff5-3f0fe7765e08",
   "metadata": {},
   "outputs": [],
   "source": [
    "#optimiazer, loss and training\n",
    "\n",
    "optimizer = torch.optim.Adam(model.parameters(), lr=5e-4)\n",
    "loss_fn = nn.CrossEntropyLoss()\n",
    "\n",
    "train_losses = []\n",
    "train_accuracies =[]\n",
    "\n",
    "def train(dataloader, model, loss_fn, optimizer):\n",
    "    \n",
    "    size = len(dataloader.dataset)\n",
    "    model.train()\n",
    "    \n",
    "    losses,accuracies = [],[]\n",
    "    for lvb, (X,y) in enumerate(dataloader):\n",
    "        X.to(device), y.to(device)\n",
    "\n",
    "        #forward pass\n",
    "        mx = model(X)\n",
    "        loss = loss_fn(mx,y)\n",
    "\n",
    "        #gradients\n",
    "        optimizer.zero_grad()\n",
    "        loss.backward()\n",
    "        optimizer.step()\n",
    "\n",
    "        # append loss and accuracy for recording\n",
    "        losses.append(loss.item())\n",
    "        acc = (y == mx.max(dim=1)[1]).mean(dtype = float).item()\n",
    "        accuracies.append(acc)\n",
    "\n",
    "        #print for floowing\n",
    "        if lvb % 10 == 0:\n",
    "            loss, current = loss.item(), lvb * len(X)\n",
    "            print(f\"loss: {loss:>7f}  [{current:>5d}/{size:>5d}]\")\n",
    "\n",
    "    train_loss = np.mean(losses)\n",
    "    train_acc = np.mean(accuracies)\n",
    "    \n",
    "    return train_loss, train_acc\n",
    "            "
   ]
  },
  {
   "cell_type": "code",
   "execution_count": 47,
   "id": "96a7f8e2-f66d-4e75-9a7a-895c1f70a159",
   "metadata": {},
   "outputs": [],
   "source": [
    "def test(dataloader, model, loss_fn):\n",
    "    \n",
    "    size = len(dataloader.dataset)\n",
    "    num_batches = len(dataloader)\n",
    "    \n",
    "    model.eval()\n",
    "    \n",
    "    with torch.no_grad():\n",
    "        test_loss,correct = 0,0\n",
    "        for lvb, (X,y) in enumerate(dataloader):\n",
    "            X.to(device), y.to(device)\n",
    "            \n",
    "            #forward pass\n",
    "            mx = model(X)\n",
    "            loss = loss_fn(mx,y)\n",
    "            \n",
    "            # append loss and accuracy for recording\n",
    "            test_loss += loss.item()\n",
    "            correct += (y == mx.max(dim=1)[1]).sum(dtype = float).item()\n",
    "                \n",
    "    test_loss /= num_batches\n",
    "    acc = correct / size\n",
    "    print(f\"Test Error: \\n Accuracy: {(100*acc):>0.1f}%, Avg loss: {test_loss:>8f} \\n\")\n",
    "    return test_loss, acc"
   ]
  },
  {
   "cell_type": "code",
   "execution_count": 48,
   "id": "88149ece-5f34-4e1f-9021-4df381e2f2e3",
   "metadata": {},
   "outputs": [
    {
     "name": "stdout",
     "output_type": "stream",
     "text": [
      "PRE-TRAINING:\n",
      "-------------------------------\n",
      "Test Error: \n",
      " Accuracy: 8.7%, Avg loss: 2.311836 \n",
      "\n",
      "Epoch 1\n",
      "-------------------------------\n",
      "loss: 2.312287  [    0/60000]\n",
      "loss: 2.280179  [10240/60000]\n",
      "loss: 2.216375  [20480/60000]\n",
      "loss: 2.063590  [30720/60000]\n",
      "loss: 1.744850  [40960/60000]\n",
      "loss: 1.252218  [51200/60000]\n",
      "Test Error: \n",
      " Accuracy: 78.6%, Avg loss: 0.834858 \n",
      "\n",
      "Epoch 2\n",
      "-------------------------------\n",
      "loss: 0.845440  [    0/60000]\n",
      "loss: 0.543350  [10240/60000]\n",
      "loss: 0.547741  [20480/60000]\n",
      "loss: 0.572918  [30720/60000]\n",
      "loss: 0.470791  [40960/60000]\n",
      "loss: 0.401937  [51200/60000]\n",
      "Test Error: \n",
      " Accuracy: 89.4%, Avg loss: 0.366100 \n",
      "\n",
      "Epoch 3\n",
      "-------------------------------\n",
      "loss: 0.393197  [    0/60000]\n",
      "loss: 0.301867  [10240/60000]\n",
      "loss: 0.366200  [20480/60000]\n",
      "loss: 0.416781  [30720/60000]\n",
      "loss: 0.333809  [40960/60000]\n",
      "loss: 0.300208  [51200/60000]\n",
      "Test Error: \n",
      " Accuracy: 91.8%, Avg loss: 0.279171 \n",
      "\n",
      "Epoch 4\n",
      "-------------------------------\n",
      "loss: 0.302465  [    0/60000]\n",
      "loss: 0.225154  [10240/60000]\n",
      "loss: 0.304667  [20480/60000]\n",
      "loss: 0.338436  [30720/60000]\n",
      "loss: 0.274023  [40960/60000]\n",
      "loss: 0.222076  [51200/60000]\n",
      "Test Error: \n",
      " Accuracy: 93.4%, Avg loss: 0.223756 \n",
      "\n",
      "Epoch 5\n",
      "-------------------------------\n",
      "loss: 0.239900  [    0/60000]\n",
      "loss: 0.188255  [10240/60000]\n",
      "loss: 0.260228  [20480/60000]\n",
      "loss: 0.276965  [30720/60000]\n",
      "loss: 0.227748  [40960/60000]\n",
      "loss: 0.178149  [51200/60000]\n",
      "Test Error: \n",
      " Accuracy: 94.4%, Avg loss: 0.186879 \n",
      "\n",
      "Epoch 6\n",
      "-------------------------------\n",
      "loss: 0.198782  [    0/60000]\n",
      "loss: 0.158964  [10240/60000]\n",
      "loss: 0.222258  [20480/60000]\n",
      "loss: 0.232631  [30720/60000]\n",
      "loss: 0.196443  [40960/60000]\n",
      "loss: 0.151483  [51200/60000]\n",
      "Test Error: \n",
      " Accuracy: 95.2%, Avg loss: 0.160406 \n",
      "\n",
      "Epoch 7\n",
      "-------------------------------\n",
      "loss: 0.170872  [    0/60000]\n",
      "loss: 0.138986  [10240/60000]\n",
      "loss: 0.193686  [20480/60000]\n",
      "loss: 0.198322  [30720/60000]\n",
      "loss: 0.174658  [40960/60000]\n",
      "loss: 0.135241  [51200/60000]\n",
      "Test Error: \n",
      " Accuracy: 95.7%, Avg loss: 0.141515 \n",
      "\n",
      "Epoch 8\n",
      "-------------------------------\n",
      "loss: 0.150516  [    0/60000]\n",
      "loss: 0.124179  [10240/60000]\n",
      "loss: 0.171560  [20480/60000]\n",
      "loss: 0.172895  [30720/60000]\n",
      "loss: 0.158352  [40960/60000]\n",
      "loss: 0.124537  [51200/60000]\n",
      "Test Error: \n",
      " Accuracy: 96.2%, Avg loss: 0.127477 \n",
      "\n",
      "Epoch 9\n",
      "-------------------------------\n",
      "loss: 0.135490  [    0/60000]\n",
      "loss: 0.112736  [10240/60000]\n",
      "loss: 0.155343  [20480/60000]\n",
      "loss: 0.153556  [30720/60000]\n",
      "loss: 0.146051  [40960/60000]\n",
      "loss: 0.116466  [51200/60000]\n",
      "Test Error: \n",
      " Accuracy: 96.5%, Avg loss: 0.116854 \n",
      "\n",
      "Epoch 10\n",
      "-------------------------------\n",
      "loss: 0.124761  [    0/60000]\n",
      "loss: 0.103679  [10240/60000]\n",
      "loss: 0.142451  [20480/60000]\n",
      "loss: 0.139022  [30720/60000]\n",
      "loss: 0.136162  [40960/60000]\n",
      "loss: 0.110035  [51200/60000]\n",
      "Test Error: \n",
      " Accuracy: 96.7%, Avg loss: 0.108487 \n",
      "\n"
     ]
    }
   ],
   "source": [
    "#train:\n",
    "num_epochs = 10\n",
    "train_losses,train_accs, test_losses, test_accs = [],[],[],[]\n",
    "\n",
    "print(f\"PRE-TRAINING:\\n-------------------------------\")\n",
    "#test + record\n",
    "test_loss,test_acc = test(test_dataloader,model,loss_fn)\n",
    "test_losses.append(test_loss)\n",
    "test_accs.append(test_acc)\n",
    "\n",
    "for lve in range(num_epochs):\n",
    "    print(f\"Epoch {lve+1}\\n-------------------------------\")\n",
    "    #train + record\n",
    "    train_loss, train_acc = train(train_dataloader,model,loss_fn,optimizer)\n",
    "    train_losses.append(train_loss)\n",
    "    train_accs.append(train_acc)\n",
    "    \n",
    "    #test + record\n",
    "    test_loss,test_acc = test(test_dataloader,model,loss_fn)\n",
    "    test_losses.append(test_loss)\n",
    "    test_accs.append(test_acc)"
   ]
  },
  {
   "cell_type": "code",
   "execution_count": 54,
   "id": "aa297ecc-237f-4a85-a148-f8b1270561d2",
   "metadata": {},
   "outputs": [
    {
     "data": {
      "text/plain": [
       "Text(0, 0.5, 'Average accuracy')"
      ]
     },
     "execution_count": 54,
     "metadata": {},
     "output_type": "execute_result"
    },
    {
     "data": {
      "image/png": "[encoded data removed]",
      "text/plain": [
       "<Figure size 640x480 with 1 Axes>"
      ]
     },
     "metadata": {},
     "output_type": "display_data"
    },
    {
     "data": {
      "image/png": "[encoded data removed]",
      "text/plain": [
       "<Figure size 640x480 with 1 Axes>"
      ]
     },
     "metadata": {},
     "output_type": "display_data"
    }
   ],
   "source": [
    "t= np.linspace(1,num_epochs,num_epochs)\n",
    "plt.plot(t, train_losses)\n",
    "plt.plot( [0] + list(t), test_losses)\n",
    "plt.legend([\"Train\",\"Test\"])\n",
    "plt.title(\"Exercise 1a: CE Loss vs. Epochs\")\n",
    "plt.xlabel(\"Epoch number\")\n",
    "plt.ylabel(\"Average loss\")\n",
    "\n",
    "plt.figure()\n",
    "plt.plot(t, train_accs)\n",
    "plt.plot( [0] + list(t), test_accs)\n",
    "plt.legend([\"Train\",\"Test\"])\n",
    "plt.title(\"Exercise 1a: Accuracy vs. Epochs\")\n",
    "plt.xlabel(\"Epoch number\")\n",
    "plt.ylabel(\"Average accuracy\")\n"
   ]
  },
  {
   "cell_type": "code",
   "execution_count": null,
   "id": "7b18389e-03b5-456d-846c-718cd8991a70",
   "metadata": {},
   "outputs": [],
   "source": []
  }
 ],
 "metadata": {
  "kernelspec": {
   "display_name": "Python 3 (ipykernel)",
   "language": "python",
   "name": "python3"
  },
  "language_info": {
   "codemirror_mode": {
    "name": "ipython",
    "version": 3
   },
   "file_extension": ".py",
   "mimetype": "text/x-python",
   "name": "python",
   "nbconvert_exporter": "python",
   "pygments_lexer": "ipython3",
   "version": "3.9.13"
  }
 },
 "nbformat": 4,
 "nbformat_minor": 5
}
